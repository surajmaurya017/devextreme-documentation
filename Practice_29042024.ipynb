{
  "nbformat": 4,
  "nbformat_minor": 0,
  "metadata": {
    "colab": {
      "provenance": [],
      "authorship_tag": "ABX9TyMRaL0VKS4hETos1oaL0b26",
      "include_colab_link": true
    },
    "kernelspec": {
      "name": "python3",
      "display_name": "Python 3"
    },
    "language_info": {
      "name": "python"
    }
  },
  "cells": [
    {
      "cell_type": "markdown",
      "metadata": {
        "id": "view-in-github",
        "colab_type": "text"
      },
      "source": [
        "<a href=\"https://colab.research.google.com/github/surajmaurya017/devextreme-documentation/blob/16_1/Practice_29042024.ipynb\" target=\"_parent\"><img src=\"https://colab.research.google.com/assets/colab-badge.svg\" alt=\"Open In Colab\"/></a>"
      ]
    },
    {
      "cell_type": "code",
      "execution_count": null,
      "metadata": {
        "colab": {
          "base_uri": "https://localhost:8080/"
        },
        "id": "ufY6OXhm_7-3",
        "outputId": "c700615d-07e6-4740-eccc-71a9f7abd344"
      },
      "outputs": [
        {
          "output_type": "stream",
          "name": "stdout",
          "text": [
            " \n",
            "1  \n",
            "2 3  \n",
            "4 5 6  \n",
            "7 8 9 10  \n",
            "11 12 13 14 15  \n"
          ]
        }
      ],
      "source": [
        "p=1\n",
        "for i in range(6):\n",
        "  for j in range((i)):\n",
        "    print(p, end=\" \")\n",
        "    p+=1\n",
        "  print(\" \")\n"
      ]
    },
    {
      "cell_type": "code",
      "source": [
        "for i in (65):\n",
        "  for j in (i):\n",
        "    print(char)"
      ],
      "metadata": {
        "id": "E3dHkRJ4FqkN"
      },
      "execution_count": null,
      "outputs": []
    },
    {
      "cell_type": "code",
      "source": [
        "for i in range(65,70):\n",
        "  print(' '*(5-i+1)+chr(i)*(2*i-1))"
      ],
      "metadata": {
        "colab": {
          "base_uri": "https://localhost:8080/"
        },
        "id": "BrN-95MKKXUf",
        "outputId": "802aadad-403f-4a27-9b9b-4351117d253e"
      },
      "execution_count": null,
      "outputs": [
        {
          "output_type": "stream",
          "name": "stdout",
          "text": [
            "AAAAAAAAAAAAAAAAAAAAAAAAAAAAAAAAAAAAAAAAAAAAAAAAAAAAAAAAAAAAAAAAAAAAAAAAAAAAAAAAAAAAAAAAAAAAAAAAAAAAAAAAAAAAAAAAAAAAAAAAAAAAAAAAA\n",
            "BBBBBBBBBBBBBBBBBBBBBBBBBBBBBBBBBBBBBBBBBBBBBBBBBBBBBBBBBBBBBBBBBBBBBBBBBBBBBBBBBBBBBBBBBBBBBBBBBBBBBBBBBBBBBBBBBBBBBBBBBBBBBBBBBBB\n",
            "CCCCCCCCCCCCCCCCCCCCCCCCCCCCCCCCCCCCCCCCCCCCCCCCCCCCCCCCCCCCCCCCCCCCCCCCCCCCCCCCCCCCCCCCCCCCCCCCCCCCCCCCCCCCCCCCCCCCCCCCCCCCCCCCCCCCC\n",
            "DDDDDDDDDDDDDDDDDDDDDDDDDDDDDDDDDDDDDDDDDDDDDDDDDDDDDDDDDDDDDDDDDDDDDDDDDDDDDDDDDDDDDDDDDDDDDDDDDDDDDDDDDDDDDDDDDDDDDDDDDDDDDDDDDDDDDDD\n",
            "EEEEEEEEEEEEEEEEEEEEEEEEEEEEEEEEEEEEEEEEEEEEEEEEEEEEEEEEEEEEEEEEEEEEEEEEEEEEEEEEEEEEEEEEEEEEEEEEEEEEEEEEEEEEEEEEEEEEEEEEEEEEEEEEEEEEEEEEE\n"
          ]
        }
      ]
    },
    {
      "cell_type": "code",
      "source": [
        "for i in range(65,70):\n",
        "  for j in range(5-i+1):\n",
        "    print(chr(i),end=\" \")\n",
        "  print()\n",
        "\n"
      ],
      "metadata": {
        "colab": {
          "base_uri": "https://localhost:8080/"
        },
        "id": "oNL-zRYjKx1k",
        "outputId": "c977d998-86ca-4c85-fa3d-bb57d1692396"
      },
      "execution_count": null,
      "outputs": [
        {
          "output_type": "stream",
          "name": "stdout",
          "text": [
            "\n",
            "\n",
            "\n",
            "\n",
            "\n"
          ]
        }
      ]
    },
    {
      "cell_type": "code",
      "source": [
        "for i in range(65,70):\n",
        "  print(' '*(69-i+1)+chr(i)*(2*(i-65)+1))"
      ],
      "metadata": {
        "colab": {
          "base_uri": "https://localhost:8080/"
        },
        "id": "1EXZRlefOClW",
        "outputId": "07a85495-e8f0-421d-c25b-90d724ab98e8"
      },
      "execution_count": null,
      "outputs": [
        {
          "output_type": "stream",
          "name": "stdout",
          "text": [
            "     A\n",
            "    BBB\n",
            "   CCCCC\n",
            "  DDDDDDD\n",
            " EEEEEEEEE\n"
          ]
        }
      ]
    },
    {
      "cell_type": "code",
      "source": [
        "rows= 70\n",
        "for i in range (65,rows+1):\n",
        "  print(\" \"*(rows - i ),end=\" \")\n",
        "  for j in range(65,i+1):\n",
        "    print(chr(i),end=\" \")\n",
        "  print()\n"
      ],
      "metadata": {
        "colab": {
          "base_uri": "https://localhost:8080/"
        },
        "id": "2nh0LOLhNHo9",
        "outputId": "fbe325bb-4f1f-48e4-b571-9c4b497708f7"
      },
      "execution_count": null,
      "outputs": [
        {
          "output_type": "stream",
          "name": "stdout",
          "text": [
            "      A \n",
            "     B B \n",
            "    C C C \n",
            "   D D D D \n",
            "  E E E E E \n",
            " F F F F F F \n"
          ]
        }
      ]
    },
    {
      "cell_type": "code",
      "source": [
        "rows= 70\n",
        "p=65\n",
        "for i in range (65,rows+1):\n",
        "  print(\" \"*(rows - i ),end=\" \")\n",
        "  for j in range(65,i+1):\n",
        "    print(chr(p),end=\" \")\n",
        "    p+=1\n",
        "  print()"
      ],
      "metadata": {
        "colab": {
          "base_uri": "https://localhost:8080/"
        },
        "id": "zNakesKwRT2n",
        "outputId": "6c78c05c-db72-4555-fe6c-b42eec6f129b"
      },
      "execution_count": null,
      "outputs": [
        {
          "output_type": "stream",
          "name": "stdout",
          "text": [
            "      A \n",
            "     B C \n",
            "    D E F \n",
            "   G H I J \n",
            "  K L M N O \n",
            " P Q R S T U \n"
          ]
        }
      ]
    },
    {
      "cell_type": "code",
      "source": [
        "rows= 9\n",
        "p=1\n",
        "for i in range (1,rows+1):\n",
        "  for j in range(i,9):\n",
        "    print(\" \" ,end = \" \")\n",
        "  for k in range(1,i):\n",
        "    print(k , end = \"   \")\n",
        "  for j in (i,-1):\n",
        "\n",
        "  print()"
      ],
      "metadata": {
        "colab": {
          "base_uri": "https://localhost:8080/"
        },
        "id": "5wBvKi3_Su9G",
        "outputId": "6567fa50-1c39-4932-9be2-b8025bdcd70c"
      },
      "execution_count": null,
      "outputs": [
        {
          "output_type": "stream",
          "name": "stdout",
          "text": [
            "                \n",
            "              1   \n",
            "            1   2   \n",
            "          1   2   3   \n",
            "        1   2   3   4   \n",
            "      1   2   3   4   5   \n",
            "    1   2   3   4   5   6   \n",
            "  1   2   3   4   5   6   7   \n",
            "1   2   3   4   5   6   7   8   \n"
          ]
        }
      ]
    },
    {
      "cell_type": "code",
      "source": [
        "rows= 10\n",
        "p=1\n",
        "for i in range (1,rows+1):\n",
        "  for j in range(i):\n",
        "    print(\" \"*(rows - i ),end=\" \")\n",
        "    for j in range(i):\n",
        "      print(p,end=\" \")\n",
        "      p+=1\n",
        "    print()"
      ],
      "metadata": {
        "colab": {
          "base_uri": "https://localhost:8080/"
        },
        "id": "IzPQbn0CTedl",
        "outputId": "9e1fb7d6-5b12-45f0-86c1-4d6bff83f31e"
      },
      "execution_count": null,
      "outputs": [
        {
          "output_type": "stream",
          "name": "stdout",
          "text": [
            "          1 \n",
            "         2 3 \n",
            "         4 5 \n",
            "        6 7 8 \n",
            "        9 10 11 \n",
            "        12 13 14 \n",
            "       15 16 17 18 \n",
            "       19 20 21 22 \n",
            "       23 24 25 26 \n",
            "       27 28 29 30 \n",
            "      31 32 33 34 35 \n",
            "      36 37 38 39 40 \n",
            "      41 42 43 44 45 \n",
            "      46 47 48 49 50 \n",
            "      51 52 53 54 55 \n",
            "     56 57 58 59 60 61 \n",
            "     62 63 64 65 66 67 \n",
            "     68 69 70 71 72 73 \n",
            "     74 75 76 77 78 79 \n",
            "     80 81 82 83 84 85 \n",
            "     86 87 88 89 90 91 \n",
            "    92 93 94 95 96 97 98 \n",
            "    99 100 101 102 103 104 105 \n",
            "    106 107 108 109 110 111 112 \n",
            "    113 114 115 116 117 118 119 \n",
            "    120 121 122 123 124 125 126 \n",
            "    127 128 129 130 131 132 133 \n",
            "    134 135 136 137 138 139 140 \n",
            "   141 142 143 144 145 146 147 148 \n",
            "   149 150 151 152 153 154 155 156 \n",
            "   157 158 159 160 161 162 163 164 \n",
            "   165 166 167 168 169 170 171 172 \n",
            "   173 174 175 176 177 178 179 180 \n",
            "   181 182 183 184 185 186 187 188 \n",
            "   189 190 191 192 193 194 195 196 \n",
            "   197 198 199 200 201 202 203 204 \n",
            "  205 206 207 208 209 210 211 212 213 \n",
            "  214 215 216 217 218 219 220 221 222 \n",
            "  223 224 225 226 227 228 229 230 231 \n",
            "  232 233 234 235 236 237 238 239 240 \n",
            "  241 242 243 244 245 246 247 248 249 \n",
            "  250 251 252 253 254 255 256 257 258 \n",
            "  259 260 261 262 263 264 265 266 267 \n",
            "  268 269 270 271 272 273 274 275 276 \n",
            "  277 278 279 280 281 282 283 284 285 \n",
            " 286 287 288 289 290 291 292 293 294 295 \n",
            " 296 297 298 299 300 301 302 303 304 305 \n",
            " 306 307 308 309 310 311 312 313 314 315 \n",
            " 316 317 318 319 320 321 322 323 324 325 \n",
            " 326 327 328 329 330 331 332 333 334 335 \n",
            " 336 337 338 339 340 341 342 343 344 345 \n",
            " 346 347 348 349 350 351 352 353 354 355 \n",
            " 356 357 358 359 360 361 362 363 364 365 \n",
            " 366 367 368 369 370 371 372 373 374 375 \n",
            " 376 377 378 379 380 381 382 383 384 385 \n"
          ]
        }
      ]
    },
    {
      "cell_type": "code",
      "source": [
        "a=[1,2,3,4,-4,-6,-7,-8,-9]\n"
      ],
      "metadata": {
        "id": "-Mmq15RwUM8V"
      },
      "execution_count": null,
      "outputs": []
    },
    {
      "cell_type": "code",
      "source": [
        "\n",
        "for i in a:\n",
        "  if i <0:\n",
        "    a.remove(i)\n",
        "\n",
        "\n",
        "print(a)"
      ],
      "metadata": {
        "colab": {
          "base_uri": "https://localhost:8080/"
        },
        "id": "AEiKItOfgw_i",
        "outputId": "6491104c-292c-42ed-b72a-22d355c06794"
      },
      "execution_count": null,
      "outputs": [
        {
          "output_type": "stream",
          "name": "stdout",
          "text": [
            "[1, 2, 3, 4, -6, -8]\n"
          ]
        }
      ]
    },
    {
      "cell_type": "code",
      "source": [
        "a"
      ],
      "metadata": {
        "colab": {
          "base_uri": "https://localhost:8080/"
        },
        "id": "EcfyADaNhKgB",
        "outputId": "1c696068-0bc0-4330-c3f3-3d90aa9916ef"
      },
      "execution_count": null,
      "outputs": [
        {
          "output_type": "execute_result",
          "data": {
            "text/plain": [
              "[1, 2, 3, 4, -4, -6, -7, -8, -9]"
            ]
          },
          "metadata": {},
          "execution_count": 134
        }
      ]
    },
    {
      "cell_type": "code",
      "source": [
        "\n",
        "a= sorted(a)"
      ],
      "metadata": {
        "id": "XYLhm29HiFWh"
      },
      "execution_count": null,
      "outputs": []
    },
    {
      "cell_type": "code",
      "source": [
        "print(a)"
      ],
      "metadata": {
        "colab": {
          "base_uri": "https://localhost:8080/"
        },
        "id": "hwMm33GPp4iF",
        "outputId": "13637ba5-448e-48f2-90bd-2662ad5c31b9"
      },
      "execution_count": null,
      "outputs": [
        {
          "output_type": "stream",
          "name": "stdout",
          "text": [
            "[-9, -8, -7, -6, -4, 1, 2, 3, 4]\n"
          ]
        }
      ]
    },
    {
      "cell_type": "code",
      "source": [
        "length = len(a)\n",
        "for i in range(length):\n",
        "  if a[0] < 0:\n",
        "    a.pop[0]\n",
        "    print(a)\n"
      ],
      "metadata": {
        "id": "YmRO38EmnKfS"
      },
      "execution_count": null,
      "outputs": []
    },
    {
      "cell_type": "code",
      "source": [
        "8104126696"
      ],
      "metadata": {
        "id": "ciky53kvp_Hc"
      },
      "execution_count": null,
      "outputs": []
    },
    {
      "cell_type": "code",
      "source": [
        "\n",
        "sum = 1\n",
        "x = int(input(\"Enter nu for factorial\" ))\n",
        "for i in range(1,x+1):\n",
        "  sum = sum *i\n",
        "  print(sum)\n"
      ],
      "metadata": {
        "colab": {
          "base_uri": "https://localhost:8080/"
        },
        "id": "ANK2W7KLsC2v",
        "outputId": "0c4bbef0-caf1-4b93-9b9b-27e7070bc914"
      },
      "execution_count": null,
      "outputs": [
        {
          "output_type": "stream",
          "name": "stdout",
          "text": [
            "Enter nu for factorial5\n",
            "1\n",
            "2\n",
            "6\n",
            "24\n",
            "120\n"
          ]
        }
      ]
    },
    {
      "cell_type": "code",
      "source": [
        "a=[-1,-5,-6,0,45,78,-6]"
      ],
      "metadata": {
        "id": "Hc447dl7suh0"
      },
      "execution_count": null,
      "outputs": []
    },
    {
      "cell_type": "code",
      "source": [
        "a=sorted(a)\n",
        "a"
      ],
      "metadata": {
        "colab": {
          "base_uri": "https://localhost:8080/"
        },
        "id": "gz16hBHI72O4",
        "outputId": "41a9fffb-34e8-43fe-fc96-2c559c62410b"
      },
      "execution_count": null,
      "outputs": [
        {
          "output_type": "execute_result",
          "data": {
            "text/plain": [
              "[-6, -6, -5, -1, 0, 45, 78]"
            ]
          },
          "metadata": {},
          "execution_count": 225
        }
      ]
    },
    {
      "cell_type": "code",
      "source": [
        "length=len(a)\n"
      ],
      "metadata": {
        "id": "2rNMY_bq7-tY"
      },
      "execution_count": null,
      "outputs": []
    },
    {
      "cell_type": "code",
      "source": [
        "length"
      ],
      "metadata": {
        "colab": {
          "base_uri": "https://localhost:8080/"
        },
        "id": "mE3BJpEH8Eno",
        "outputId": "8d15a0d5-40c6-4b99-f4dd-ce52b645368c"
      },
      "execution_count": null,
      "outputs": [
        {
          "output_type": "execute_result",
          "data": {
            "text/plain": [
              "7"
            ]
          },
          "metadata": {},
          "execution_count": 227
        }
      ]
    },
    {
      "cell_type": "code",
      "source": [
        "for i in (a):\n",
        "  if a[0]<=0:\n",
        "    a.pop(0)\n",
        "print(a)"
      ],
      "metadata": {
        "colab": {
          "base_uri": "https://localhost:8080/"
        },
        "id": "EcZthQtf8KdY",
        "outputId": "15c6e6a7-8f51-4a94-8a3d-d87fd684030b"
      },
      "execution_count": null,
      "outputs": [
        {
          "output_type": "stream",
          "name": "stdout",
          "text": [
            "[0, 45, 78]\n"
          ]
        }
      ]
    },
    {
      "cell_type": "code",
      "source": [
        "num=5\n",
        "a=1"
      ],
      "metadata": {
        "id": "UpcV3zBt8k7Y"
      },
      "execution_count": null,
      "outputs": []
    },
    {
      "cell_type": "code",
      "source": [
        "for i in range(1,num+1):\n",
        "  a=a*i\n",
        "  print(a)"
      ],
      "metadata": {
        "colab": {
          "base_uri": "https://localhost:8080/"
        },
        "id": "qE7G2QkP9ptj",
        "outputId": "01663d71-faf7-45a6-a338-a83043843a19"
      },
      "execution_count": null,
      "outputs": [
        {
          "output_type": "stream",
          "name": "stdout",
          "text": [
            "1\n",
            "2\n",
            "6\n",
            "24\n",
            "120\n"
          ]
        }
      ]
    },
    {
      "cell_type": "code",
      "source": [
        "def factorial_(n):\n",
        "  if n==0:\n",
        "    return 1\n",
        "  else:\n",
        "    return n * factorial_(n-1)"
      ],
      "metadata": {
        "id": "kKoaDbXFVxVB"
      },
      "execution_count": 11,
      "outputs": []
    },
    {
      "cell_type": "code",
      "source": [
        "num = 5\n",
        "print(factorial_(num))"
      ],
      "metadata": {
        "id": "g1z2JtV595-Z",
        "colab": {
          "base_uri": "https://localhost:8080/"
        },
        "outputId": "72b3e1b5-89ae-496c-9545-8c6455453db4"
      },
      "execution_count": 12,
      "outputs": [
        {
          "output_type": "stream",
          "name": "stdout",
          "text": [
            "120\n"
          ]
        }
      ]
    },
    {
      "cell_type": "code",
      "source": [
        "x = ('e','f','g','h','a','b','c','d')"
      ],
      "metadata": {
        "id": "vpJ8UoQlbH4C"
      },
      "execution_count": 26,
      "outputs": []
    },
    {
      "cell_type": "code",
      "source": [
        "sorted(x,reverse = True)"
      ],
      "metadata": {
        "colab": {
          "base_uri": "https://localhost:8080/"
        },
        "id": "caT8TXyPbmQw",
        "outputId": "003cd116-25a9-4725-ffec-3358cb452f7b"
      },
      "execution_count": 28,
      "outputs": [
        {
          "output_type": "execute_result",
          "data": {
            "text/plain": [
              "['h', 'g', 'f', 'e', 'd', 'c', 'b', 'a']"
            ]
          },
          "metadata": {},
          "execution_count": 28
        }
      ]
    },
    {
      "cell_type": "code",
      "source": [
        "a = {1,2,2,2,3,4,4,4,4,5,6,7}"
      ],
      "metadata": {
        "id": "p7-fyfNPbzGA"
      },
      "execution_count": 2,
      "outputs": []
    },
    {
      "cell_type": "code",
      "source": [
        "set(a)"
      ],
      "metadata": {
        "colab": {
          "base_uri": "https://localhost:8080/"
        },
        "id": "sumZ1JW0dkhs",
        "outputId": "b856cda1-4576-4ef2-ff9b-e27d40bef617"
      },
      "execution_count": 32,
      "outputs": [
        {
          "output_type": "execute_result",
          "data": {
            "text/plain": [
              "{1, 2, 3, 4, 5, 6, 7}"
            ]
          },
          "metadata": {},
          "execution_count": 32
        }
      ]
    },
    {
      "cell_type": "code",
      "source": [],
      "metadata": {
        "id": "Oepa1VTKd20x"
      },
      "execution_count": null,
      "outputs": []
    }
  ]
}